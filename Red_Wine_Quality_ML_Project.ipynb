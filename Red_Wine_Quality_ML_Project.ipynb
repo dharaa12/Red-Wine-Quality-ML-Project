{
  "nbformat": 4,
  "nbformat_minor": 0,
  "metadata": {
    "colab": {
      "private_outputs": true,
      "provenance": [],
      "include_colab_link": true
    },
    "kernelspec": {
      "name": "python3",
      "display_name": "Python 3"
    },
    "language_info": {
      "name": "python"
    }
  },
  "cells": [
    {
      "cell_type": "markdown",
      "metadata": {
        "id": "view-in-github",
        "colab_type": "text"
      },
      "source": [
        "<a href=\"https://colab.research.google.com/github/dharaa12/Red-Wine-Quality-ML-Project/blob/main/Red_Wine_Quality_ML_Project.ipynb\" target=\"_parent\"><img src=\"https://colab.research.google.com/assets/colab-badge.svg\" alt=\"Open In Colab\"/></a>"
      ]
    },
    {
      "cell_type": "markdown",
      "source": [
        "## **Predicting Red Wine Quality**\n",
        "\n",
        "\n",
        "### **Dataset Description:**\n",
        "\n",
        "The dataset contains the following attributes:\n",
        "\n",
        "* `Fixed Acidity`: The amount of tartaric acid in the wine (g/dm³).\n",
        "* `Volatile Acidity`: The amount of acetic acid in the wine (g/dm³).\n",
        "* `Citric Acid`: The amount of citric acid in the wine (g/dm³).\n",
        "* `Residual Sugar`: The amount of residual sugar in the wine (g/dm³).\n",
        "* `Chlorides`: The amount of chlorides in the wine (g/dm³).\n",
        "* `Free Sulfur Dioxide`: The amount of free sulfur dioxide (mg/dm³).\n",
        "* `Total Sulfur Dioxide`: The total amount of sulfur dioxide (mg/dm³).\n",
        "* `Density`: The density of the wine (g/cm³).\n",
        "* `pH`: The pH of the wine.\n",
        "* `Sulphates`: The amount of sulphates in the wine (g/dm³).\n",
        "* `Alcohol`: The alcohol content of the wine (%).\n",
        "* `Quality`: The quality rating of the wine (on a scale from 3 to 8, with higher values indicating better quality).\n"
      ],
      "metadata": {
        "id": "gLKUdXSOSeXp"
      }
    },
    {
      "cell_type": "markdown",
      "source": [
        "#### **Data Download**"
      ],
      "metadata": {
        "id": "0ktu5wy93c7W"
      }
    },
    {
      "cell_type": "code",
      "execution_count": null,
      "metadata": {
        "id": "NTTK13c0SWqk"
      },
      "outputs": [],
      "source": [
        "!wget https://raw.githubusercontent.com/aniruddhachoudhury/Red-Wine-Quality/master/winequality-red.csv"
      ]
    },
    {
      "cell_type": "markdown",
      "source": [
        "#### **Data preprocessing steps**"
      ],
      "metadata": {
        "id": "k13c7Kp82xHJ"
      }
    },
    {
      "cell_type": "code",
      "source": [
        "# YOUR CODE HERE\n",
        "import pandas as pd\n",
        "import numpy as np\n",
        "import matplotlib.pyplot as plt\n",
        "import seaborn as sns\n",
        "\n",
        "wine_df = pd.read_csv('winequality-red.csv')\n",
        "wine_df\n"
      ],
      "metadata": {
        "id": "D0yObj13TFm6"
      },
      "execution_count": null,
      "outputs": []
    },
    {
      "cell_type": "code",
      "source": [
        "wine_df.info()\n",
        "#data description shows we should have numeric values and Dtype shows us floats and ints - good sign\n"
      ],
      "metadata": {
        "id": "6ypWZL21QTQg"
      },
      "execution_count": null,
      "outputs": []
    },
    {
      "cell_type": "code",
      "source": [
        "wine_df.drop_duplicates(inplace=True) #having duplicates can skew the math\n",
        "wine_df\n",
        "#.dropna() - if you had null values you drop that column\n",
        "#inplace=True - modifies the original df"
      ],
      "metadata": {
        "id": "cuzOY9HDQLKx"
      },
      "execution_count": null,
      "outputs": []
    },
    {
      "cell_type": "code",
      "source": [
        "wine_df.describe()#stats of each column\n",
        "\n",
        "#if being through, youd look at each stat (except quality coz its a discrete value) and see if it makes sense (ie is correct math being calculated) and see if you have good data/line in with other datasets\n",
        "#so this is where the stuff you learned this sem in college comes in\n",
        "#for discrete values you want to check if anything is misspelled etc so in this case if someoone put in a value that isnt in the specified range of 3-8"
      ],
      "metadata": {
        "id": "08IRyxZ0RA-t"
      },
      "execution_count": null,
      "outputs": []
    },
    {
      "cell_type": "code",
      "source": [
        "wine_df['quality'].unique()\n",
        "#so nobody gave a value not in the range\n",
        "#unique is used to make sure that two things that mean the same thing but written differently arent tracked as different in this case 3 and three = 3\n",
        "#unique is used on discrete values (no decimals) and not continuous (decimals)"
      ],
      "metadata": {
        "id": "EVz_ipaUUGyN"
      },
      "execution_count": null,
      "outputs": []
    },
    {
      "cell_type": "markdown",
      "source": [
        "#### **EDA findings, including visualizations**"
      ],
      "metadata": {
        "id": "LDRGaags2zI2"
      }
    },
    {
      "cell_type": "code",
      "source": [
        "# YOUR CODE HERE\n",
        "#Goal: build a ML model to predict the quality based on wines' chemical attributes.\n",
        "corr_matrix = wine_df.corr()\n",
        "plt.figure(figsize=(15,10))\n",
        "sns.heatmap(corr_matrix, annot=True, cmap='coolwarm', linewidths=0.5)\n",
        "plt.title('Correlation Matrix')\n",
        "plt.show() #we are interested in seeing how things correlate to quality\n",
        "#strong positive correlations (close to 1), strong negative correlations (close to -1)\n",
        "#we can see that high alcohol percentanges yeilds greater scores for quality while high volatile acidity yields lower scores for quality\n"
      ],
      "metadata": {
        "id": "NoUdrZeW22pC"
      },
      "execution_count": null,
      "outputs": []
    },
    {
      "cell_type": "markdown",
      "source": [
        "\n",
        "\n",
        "\n",
        "#### **Data Splitting**"
      ],
      "metadata": {
        "id": "5DbnydVq23mU"
      }
    },
    {
      "cell_type": "code",
      "source": [
        "# YOUR CODE HERE\n",
        "from sklearn.model_selection import train_test_split #split into train and testing part\n",
        "#dont train on target value (in this case, quality)\n",
        "features = wine_df.drop('quality', axis=1) #features = training off of\n",
        "target = wine_df['quality']\n",
        "#X - features, x - what im finding\n",
        "#testing w 20% of our data, training w 80% of data.\n",
        "#random state makes sure we have the same test/train split everything we run (usually ppl put 42 - insider joke)\n",
        "X_train, X_test, y_train, y_test = train_test_split(features, target, test_size=0.2, random_state=42)"
      ],
      "metadata": {
        "id": "H38RqfFw26gt"
      },
      "execution_count": null,
      "outputs": []
    },
    {
      "cell_type": "markdown",
      "source": [
        "#### **Model selection, training, and evaluation details**"
      ],
      "metadata": {
        "id": "__9z1acD27Ng"
      }
    },
    {
      "cell_type": "code",
      "source": [
        "# YOUR CODE HERE\n",
        "from sklearn.linear_model import LinearRegression\n",
        "model = LinearRegression()\n",
        "model.fit(X_train, y_train)\n",
        "y_pred_train = model.predict(X_train)\n",
        "y_pred_test = model.predict(X_test)\n",
        "\n",
        "data = pd.concat([pd.DataFrame(y_test.values), pd.DataFrame(y_pred_test)], axis=1)\n",
        "data.columns = ['Actual', 'Predicted']\n",
        "data\n",
        "#predicted is giving continous values (regressions) instead of discrete values coz were using categorical model (regression is not categorical)\n",
        "#to fix that you use thresholding to round to nearest int"
      ],
      "metadata": {
        "id": "jU3HFB8n2_YK"
      },
      "execution_count": null,
      "outputs": []
    },
    {
      "cell_type": "code",
      "source": [
        "data['Predicted'] = data['Predicted'].apply(lambda x: round(x))\n",
        "data"
      ],
      "metadata": {
        "id": "UPLmsM46jP94"
      },
      "execution_count": null,
      "outputs": []
    },
    {
      "cell_type": "markdown",
      "source": [
        "#### **Model performance metrics and insights**"
      ],
      "metadata": {
        "id": "1EiHCpB63BCs"
      }
    },
    {
      "cell_type": "code",
      "source": [
        "# YOUR CODE HERE\n",
        "#mean square error is used for normal distributions\n",
        "from sklearn.metrics import mean_squared_error as mse\n",
        "from sklearn.metrics import mean_absolute_percentage_error as mape\n",
        "from math import sqrt\n",
        "print(f'train error: {round(sqrt(mse(y_train, y_pred_train)),3)}')\n",
        "print(f'test error: {round(sqrt(mse(y_test, y_pred_test)),3)}')"
      ],
      "metadata": {
        "id": "4BKpcrdL3FpM"
      },
      "execution_count": null,
      "outputs": []
    },
    {
      "cell_type": "code",
      "source": [
        "#show errors\n",
        "plt.figure(figsize=(15,5))\n",
        "sns.histplot(y_test - y_pred_test, bins = 10, kde = True)\n",
        "plt.title('Residuals Distribution')\n",
        "plt.xlabel('Residuals')\n",
        "plt.ylabel('Frequency')\n",
        "plt.show()\n",
        "#we can see that we get errors close to 0 which is good"
      ],
      "metadata": {
        "id": "fdaT40oSlO7D"
      },
      "execution_count": null,
      "outputs": []
    },
    {
      "cell_type": "code",
      "source": [
        "\n",
        "print(f'train error: {round(mape(y_train, y_pred_train),3)*100}')\n",
        "print(f'test error: {round(mape(y_test, y_pred_test),3)*100}')\n",
        "#anything below 10% is excellent error lvl\n",
        "#anything over 30% is rlly bad"
      ],
      "metadata": {
        "id": "SuqukTOjmKIl"
      },
      "execution_count": null,
      "outputs": []
    },
    {
      "cell_type": "code",
      "source": [
        "from sklearn.metrics import r2_score\n",
        "print(f'train error: {round(r2_score(y_train, y_pred_train),3)}')\n",
        "print(f'test error: {round(r2_score(y_test, y_pred_test),3)}')\n"
      ],
      "metadata": {
        "id": "WGs1jr8bmqcb"
      },
      "execution_count": null,
      "outputs": []
    },
    {
      "cell_type": "code",
      "source": [
        "#if used a different model other than linear regression, we could do better"
      ],
      "metadata": {
        "id": "YwXN_hORnD9l"
      },
      "execution_count": null,
      "outputs": []
    }
  ]
}